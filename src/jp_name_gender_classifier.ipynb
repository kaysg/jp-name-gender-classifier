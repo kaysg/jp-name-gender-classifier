{
 "cells": [
  {
   "cell_type": "markdown",
   "metadata": {},
   "source": [
    "# PyTorch Character Based LSTM Gender Classification"
   ]
  },
  {
   "cell_type": "markdown",
   "metadata": {},
   "source": [
    "- Purpose: To classify gender of Japanese names\n",
    "- Keywords: Character based classification, LSTM, PyTorch"
   ]
  },
  {
   "cell_type": "code",
   "execution_count": 1,
   "metadata": {},
   "outputs": [],
   "source": [
    "import warnings\n",
    "warnings.filterwarnings('ignore')\n",
    "\n",
    "import glob\n",
    "import unicodedata\n",
    "import string\n",
    "import random\n",
    "import time\n",
    "import math\n",
    "import codecs\n",
    "\n",
    "import torch\n",
    "import torch.nn as nn\n",
    "from torch.autograd import Variable\n",
    "\n",
    "from sklearn.metrics import classification_report, accuracy_score\n",
    "\n",
    "import matplotlib.pyplot as plt\n",
    "import matplotlib.ticker as ticker"
   ]
  },
  {
   "cell_type": "code",
   "execution_count": 2,
   "metadata": {},
   "outputs": [],
   "source": [
    "# ファイルを開いて一行ずつリストに格納する関数\n",
    "def readLines(filename):\n",
    "    \"\"\"\n",
    "    Read a file and store the lines into a list\n",
    "    :param filename: single filename\n",
    "    :return: list of lines in the file\n",
    "    \"\"\"\n",
    "    lines = codecs.open(filename, 'r', 'utf-8').read().strip().split('\\n')\n",
    "    return lines"
   ]
  },
  {
   "cell_type": "code",
   "execution_count": 3,
   "metadata": {},
   "outputs": [],
   "source": [
    "# 一行（名前一つに相当）をテンソルへ変換\n",
    "def line_to_tensor(line):\n",
    "    \"\"\"\n",
    "    Convert a line to a tensor (line_len x 1 x 57)\n",
    "    :param line: line in string format\n",
    "    :return: tensor in one hot vector\n",
    "    >>> line\n",
    "    >>> 'ツバサ'\n",
    "    >>> tensor\n",
    "    >>> (0 ,.,.) =\n",
    "    >>> Columns 0 to 18\n",
    "    >>>     1   0   0   0 ..\n",
    "    >>> (1 ,.,.) =\n",
    "    >>> Columns 0 to 18\n",
    "    >>>     0   1   0   0 ..\n",
    "    >>> (2 ,.,.) =\n",
    "    >>> Columns 0 to 18\n",
    "    >>>     0   0   1   0 ..\n",
    "    >>> ...\n",
    "    >>> Columns 38 to 84\n",
    "    >>>     ... 0   0   0   0\n",
    "    >>> [torch.FloatTensor of size 3x1x85]\n",
    "    \"\"\"\n",
    "    all_letters = \"ァアィイゥウェエォオカガキギクグケゲコゴサザシジスズセゼソゾタダチヂッツヅテデトド\" \\\n",
    "                  \"ナニヌネノハバパヒビピフブプヘベペホボポマミムメモャヤュユョヨラリルレロヮワヰヱヲンヴー\"\n",
    "    n_letters = len(all_letters)\n",
    "\n",
    "    tensor = torch.zeros(len(line), 1, n_letters)  # n_letters=85\n",
    "    for li, letter in enumerate(line):\n",
    "        letter_index = all_letters.find(letter)\n",
    "        tensor[li][0][letter_index] = 1\n",
    "    return tensor\n"
   ]
  },
  {
   "cell_type": "code",
   "execution_count": 4,
   "metadata": {},
   "outputs": [
    {
     "data": {
      "text/plain": [
       "\n",
       "(0 ,.,.) = \n",
       "\n",
       "Columns 0 to 18 \n",
       "    0   0   0   0   0   0   0   0   0   0   0   0   0   0   0   0   0   0   0\n",
       "\n",
       "Columns 19 to 37 \n",
       "    0   0   0   0   0   0   0   0   0   0   0   1   0   0   0   0   0   0   0\n",
       "\n",
       "Columns 38 to 56 \n",
       "    0   0   0   0   0   0   0   0   0   0   0   0   0   0   0   0   0   0   0\n",
       "\n",
       "Columns 57 to 75 \n",
       "    0   0   0   0   0   0   0   0   0   0   0   0   0   0   0   0   0   0   0\n",
       "\n",
       "Columns 76 to 84 \n",
       "    0   0   0   0   0   0   0   0   0\n",
       "\n",
       "(1 ,.,.) = \n",
       "\n",
       "Columns 0 to 18 \n",
       "    0   0   0   0   0   0   0   0   0   0   0   0   0   0   0   0   0   0   0\n",
       "\n",
       "Columns 19 to 37 \n",
       "    0   0   0   0   0   0   0   0   0   0   0   0   0   0   0   0   0   0   0\n",
       "\n",
       "Columns 38 to 56 \n",
       "    0   0   0   0   0   0   0   0   0   0   0   0   0   0   0   0   0   0   0\n",
       "\n",
       "Columns 57 to 75 \n",
       "    0   0   0   0   0   0   0   0   0   0   0   0   0   0   0   0   0   0   0\n",
       "\n",
       "Columns 76 to 84 \n",
       "    1   0   0   0   0   0   0   0   0\n",
       "\n",
       "(2 ,.,.) = \n",
       "\n",
       "Columns 0 to 18 \n",
       "    0   0   0   0   0   1   0   0   0   0   0   0   0   0   0   0   0   0   0\n",
       "\n",
       "Columns 19 to 37 \n",
       "    0   0   0   0   0   0   0   0   0   0   0   0   0   0   0   0   0   0   0\n",
       "\n",
       "Columns 38 to 56 \n",
       "    0   0   0   0   0   0   0   0   0   0   0   0   0   0   0   0   0   0   0\n",
       "\n",
       "Columns 57 to 75 \n",
       "    0   0   0   0   0   0   0   0   0   0   0   0   0   0   0   0   0   0   0\n",
       "\n",
       "Columns 76 to 84 \n",
       "    0   0   0   0   0   0   0   0   0\n",
       "[torch.FloatTensor of size 3x1x85]"
      ]
     },
     "execution_count": 4,
     "metadata": {},
     "output_type": "execute_result"
    }
   ],
   "source": [
    "line_to_tensor('タロウ') #3(文字)x1x85(テンソル長)のテンソルが作られるはず"
   ]
  },
  {
   "cell_type": "code",
   "execution_count": 5,
   "metadata": {},
   "outputs": [],
   "source": [
    "# NNが推論した結果（テンソル）をカテゴリーデータへ戻す関数\n",
    "def category_from_output(output):\n",
    "    \"\"\"\n",
    "    Convert tensor output from NN model to cateory data\n",
    "    :param output: output from NN model\n",
    "    :return: category data\n",
    "    >>> output\n",
    "    >>> -0.2106 -1.6611\n",
    "    >>> [torch.FloatTensor of size 1x2]\n",
    "    >>>\n",
    "    >>> top_n\n",
    "    >>> -0.2106 [torch.FloatTensor of size 1x1] #=> -0.2106 > -1.6611\n",
    "    >>> top_i\n",
    "    >>> 0 [torch.LongTensor of size 1x1]\n",
    "    >>> category_i\n",
    "    >>> 0 [int]\n",
    "    >>> all_categories[category_i]\n",
    "    >>> 'boys_name'\n",
    "    \"\"\"\n",
    "    top_n, top_i = output.data.topk(1) #Top1の値がtop_nに、インデックスがtop_iに格納される\n",
    "    category_i = top_i[0][0]\n",
    "    return all_categories[category_i], category_i\n"
   ]
  },
  {
   "cell_type": "code",
   "execution_count": 6,
   "metadata": {},
   "outputs": [],
   "source": [
    "# LSTMクラス\n",
    "class LSTM(nn.Module):\n",
    "    def __init__(self, input_size, hidden_size, output_size):\n",
    "        super(LSTM, self).__init__()\n",
    "\n",
    "        self.input_size = input_size\n",
    "        self.hidden_size = hidden_size\n",
    "        self.output_size = output_size\n",
    "\n",
    "        self.i2h = nn.Linear(input_size + hidden_size, hidden_size)\n",
    "        self.i2o = nn.Linear(input_size + hidden_size, output_size)\n",
    "        self.softmax = nn.LogSoftmax()\n",
    "\n",
    "    def forward(self, input, hidden):\n",
    "        combined = torch.cat((input, hidden), 1)\n",
    "        hidden = self.i2h(combined)\n",
    "        output = self.i2o(combined)\n",
    "        output = self.softmax(output)\n",
    "        return output, hidden\n",
    "\n",
    "    def init_hidden(self):\n",
    "        return Variable(torch.zeros(1, self.hidden_size))\n"
   ]
  },
  {
   "cell_type": "code",
   "execution_count": 7,
   "metadata": {},
   "outputs": [],
   "source": [
    "# 入力テンソル（line, category)を元に、モデルを訓練する関数\n",
    "def train(category_tensor, line_tensor, model):\n",
    "    \"\"\"\n",
    "    Perform training\n",
    "    :param category_tensor: label tensor for input\n",
    "    :param line_tensor: line tensor for input\n",
    "    :param lstm: LSTM model instance\n",
    "    :return: NN model output, loss\n",
    "    \"\"\"\n",
    "    model.zero_grad()\n",
    "    hidden = model.init_hidden()\n",
    "\n",
    "    # Calculate loss\n",
    "    for i in range(line_tensor.size()[0]):\n",
    "        output, hidden = lstm(line_tensor[i], hidden)\n",
    "    loss = criterion(output, category_tensor)  # nn.NLLLoss()\n",
    "\n",
    "    # Calculate gradient\n",
    "    loss.backward()\n",
    "\n",
    "    # Performs a single optimization step including update of model parameters\n",
    "    optimizer.step()\n",
    "\n",
    "    return output, loss.data[0]"
   ]
  },
  {
   "cell_type": "code",
   "execution_count": 8,
   "metadata": {},
   "outputs": [],
   "source": [
    "# 経過時間を取得する関数\n",
    "def time_since(since):\n",
    "    \"\"\"\n",
    "    Calculate processed time in min and sec\n",
    "    :param since: time data when processing started\n",
    "    :return: string to show min and sec\n",
    "    \"\"\"\n",
    "    now = time.time()\n",
    "    s = now - since\n",
    "    m = math.floor(s / 60)\n",
    "    s -= m * 60\n",
    "    return '%dm %ds' % (m, s)"
   ]
  },
  {
   "cell_type": "code",
   "execution_count": 9,
   "metadata": {},
   "outputs": [],
   "source": [
    "# モデルを評価する関数\n",
    "def evaluate(line_tensor, model):\n",
    "    \"\"\"\n",
    "    Perform evaluation\n",
    "    :param line_tensor: input tensor for evaluation\n",
    "    :return: output from NN model\n",
    "    \"\"\"\n",
    "    hidden = model.init_hidden()\n",
    "\n",
    "    # Get prediction for all samples/lines\n",
    "    for i in range(line_tensor.size()[0]):\n",
    "        output, hidden = model(line_tensor[i], hidden)\n",
    "\n",
    "    return output\n"
   ]
  },
  {
   "cell_type": "code",
   "execution_count": 10,
   "metadata": {},
   "outputs": [],
   "source": [
    "# パラメータの初期化\n",
    "category_lines = {}\n",
    "all_categories = []\n",
    "all_losses = []\n",
    "n_hidden = 128\n",
    "learning_rate = 0.005\n",
    "n_epochs = 100000\n",
    "print_every = 5000\n",
    "plot_every = 1000\n",
    "current_loss = 0"
   ]
  },
  {
   "cell_type": "code",
   "execution_count": 11,
   "metadata": {},
   "outputs": [],
   "source": [
    "# 全ての名前を格納するリストcategory_linesを生成\n",
    "# categoryはboys_nameまたはgirls_name\n",
    "all_filenames = glob.glob('../data/jp_names/*.txt')\n",
    "all_categories = []\n",
    "for filename in all_filenames:\n",
    "    category = filename.split('/')[-1].split('.')[0]\n",
    "    all_categories.append(category)\n",
    "    lines = readLines(filename)\n",
    "    category_lines[category] = lines"
   ]
  },
  {
   "cell_type": "code",
   "execution_count": 12,
   "metadata": {},
   "outputs": [
    {
     "data": {
      "text/plain": [
       "['アキト', 'アキヒコ', 'アキヒロ', 'アキラ', 'アサヒ', 'アツキ', 'アツシ', 'アツヤ', 'アツロウ', 'アマネ']"
      ]
     },
     "execution_count": 12,
     "metadata": {},
     "output_type": "execute_result"
    }
   ],
   "source": [
    "category_lines['boys_name'][0:10]"
   ]
  },
  {
   "cell_type": "code",
   "execution_count": 13,
   "metadata": {},
   "outputs": [],
   "source": [
    "# lstmモデル(LSTMクラスのインスタンス)を生成\n",
    "n_letters = line_to_tensor('タロウ').shape[2]\n",
    "n_categories = len(all_categories)\n",
    "lstm = LSTM(n_letters, n_hidden, n_categories)  # 85, 128, 2"
   ]
  },
  {
   "cell_type": "code",
   "execution_count": 14,
   "metadata": {},
   "outputs": [],
   "source": [
    "# 損失関数\n",
    "criterion = nn.NLLLoss()"
   ]
  },
  {
   "cell_type": "code",
   "execution_count": 15,
   "metadata": {},
   "outputs": [],
   "source": [
    "# 最適化関数\n",
    "optimizer = torch.optim.SGD(lstm.parameters(), lr=learning_rate)"
   ]
  },
  {
   "cell_type": "code",
   "execution_count": 16,
   "metadata": {},
   "outputs": [
    {
     "name": "stdout",
     "output_type": "stream",
     "text": [
      "5000 5% (0m 7s) 0.3699 レイナ / girls_name ✓\n",
      "10000 10% (0m 15s) 0.3640 リクト / boys_name ✓\n",
      "15000 15% (0m 23s) 0.1628 アヤネ / girls_name ✓\n",
      "20000 20% (0m 30s) 0.5114 トカチ / boys_name ✓\n",
      "25000 25% (0m 38s) 0.0055 オウスケ / boys_name ✓\n",
      "30000 30% (0m 46s) 0.0000 ショウタロウ / boys_name ✓\n",
      "35000 35% (0m 53s) 0.7279 ヒロ / girls_name ✗ (boys_name)\n",
      "40000 40% (1m 1s) 0.0308 メグミ / girls_name ✓\n",
      "45000 45% (1m 8s) 0.1221 ミズホ / girls_name ✓\n",
      "50000 50% (1m 16s) 0.0001 ケイタツ / boys_name ✓\n",
      "55000 55% (1m 24s) 2.6564 カイ / girls_name ✗ (boys_name)\n",
      "60000 60% (1m 31s) 0.0542 シホ / girls_name ✓\n",
      "65000 65% (1m 39s) 0.1307 アカリ / girls_name ✓\n",
      "70000 70% (1m 47s) 0.3581 ユウリ / boys_name ✓\n",
      "75000 75% (1m 54s) 0.0688 リョウコ / girls_name ✓\n",
      "80000 80% (2m 2s) 0.0152 レイカ / girls_name ✓\n",
      "85000 85% (2m 9s) 0.0156 ソウマ / boys_name ✓\n",
      "90000 90% (2m 17s) 1.2707 ユタカ / girls_name ✗ (boys_name)\n",
      "95000 95% (2m 25s) 0.0384 ツカサ / boys_name ✓\n",
      "100000 100% (2m 33s) 0.2775 スズネ / girls_name ✓\n"
     ]
    }
   ],
   "source": [
    "# 訓練の実施\n",
    "start = time.time()\n",
    "for epoch in range(1, n_epochs + 1):\n",
    "    # ランダムに入力データ及びそのカテゴリを取得し、テンソル化する\n",
    "    category = random.choice(all_categories)\n",
    "    line = random.choice(category_lines[category])\n",
    "    category_tensor = Variable(torch.LongTensor([all_categories.index(category)]))\n",
    "    line_tensor = Variable(line_to_tensor(line))\n",
    "\n",
    "    # 現エポックでの訓練と損失計算\n",
    "    output, loss = train(category_tensor, line_tensor, lstm)\n",
    "    current_loss += loss\n",
    "\n",
    "    # 訓練状況の表示 エポック数, 損失, 評価対象名前, 推論結果の表示\n",
    "    if epoch % print_every == 0:\n",
    "        guess, guess_i = category_from_output(output)\n",
    "        correct = '✓' if guess == category else '✗ (%s)' % category\n",
    "        print('%d %d%% (%s) %.4f %s / %s %s' % (\n",
    "        epoch, epoch / n_epochs * 100, time_since(start), loss, line, guess, correct))\n",
    "    # [例]\n",
    "    # 10000 10% (0m 21s) 0.8611 カズマ / girls_name ✗ (boys_name)\n",
    "    # 15000 15% (0m 31s) 0.0329 リョウマ / boys_name ✓\n",
    "    # 20000 20% (0m 41s) 0.0103 ミナ / girls_name ✓\n",
    "    \n",
    "    # 平均損失をリストall_lossesへ格納\n",
    "    if epoch % plot_every == 0:\n",
    "        all_losses.append(current_loss / plot_every)\n",
    "        current_loss = 0\n"
   ]
  },
  {
   "cell_type": "code",
   "execution_count": 17,
   "metadata": {},
   "outputs": [
    {
     "data": {
      "text/plain": [
       "[<matplotlib.lines.Line2D at 0x11c3f0400>]"
      ]
     },
     "execution_count": 17,
     "metadata": {},
     "output_type": "execute_result"
    },
    {
     "data": {
      "image/png": "[encoded data removed]",
      "text/plain": [
       "<Figure size 432x288 with 1 Axes>"
      ]
     },
     "metadata": {},
     "output_type": "display_data"
    }
   ],
   "source": [
    "# Plot loss\n",
    "plt.figure()\n",
    "plt.plot(all_losses)"
   ]
  },
  {
   "cell_type": "code",
   "execution_count": 18,
   "metadata": {},
   "outputs": [],
   "source": [
    "# 混合行列の初期化\n",
    "confusion = torch.zeros(n_categories, n_categories)\n",
    "n_confusion = 10000"
   ]
  },
  {
   "cell_type": "code",
   "execution_count": 19,
   "metadata": {},
   "outputs": [],
   "source": [
    "# 評価の実施と混合行列への値格納\n",
    "for i in range(n_confusion):\n",
    "    # ランダムに入力データ及びそのカテゴリを取得し、テンソル化する\n",
    "    category = random.choice(all_categories)\n",
    "    line = random.choice(category_lines[category])\n",
    "    category_tensor = Variable(torch.LongTensor([all_categories.index(category)]))\n",
    "    line_tensor = Variable(line_to_tensor(line))\n",
    "\n",
    "    # 評価\n",
    "    output = evaluate(line_tensor, lstm)\n",
    "    \n",
    "    # 推論結果（テンソル）の値とインデックスを取得\n",
    "    guess, guess_i = category_from_output(output)\n",
    "    \n",
    "    # 正解カテゴリインデックスをcategoryから取得\n",
    "    category_i = all_categories.index(category)\n",
    "    \n",
    "    # 混合行列への値格納\n",
    "    confusion[category_i][guess_i] += 1"
   ]
  },
  {
   "cell_type": "code",
   "execution_count": 20,
   "metadata": {},
   "outputs": [],
   "source": [
    "# 混合行列の正規化\n",
    "for i in range(n_categories):\n",
    "    confusion[i] = confusion[i] / confusion[i].sum()"
   ]
  },
  {
   "cell_type": "code",
   "execution_count": 21,
   "metadata": {},
   "outputs": [
    {
     "data": {
      "text/plain": [
       "['boys_name', 'girls_name']"
      ]
     },
     "execution_count": 21,
     "metadata": {},
     "output_type": "execute_result"
    }
   ],
   "source": [
    "all_categories"
   ]
  },
  {
   "cell_type": "code",
   "execution_count": 22,
   "metadata": {},
   "outputs": [
    {
     "data": {
      "image/png": "[encoded data removed]",
      "text/plain": [
       "<Figure size 432x288 with 2 Axes>"
      ]
     },
     "metadata": {},
     "output_type": "display_data"
    }
   ],
   "source": [
    "# 混合行列の描画\n",
    "fig = plt.figure()\n",
    "ax = fig.add_subplot(1,1,1)\n",
    "cax = ax.matshow(confusion.numpy())\n",
    "fig.colorbar(cax)\n",
    "ax.set_xticklabels([''] + all_categories, rotation=90)\n",
    "ax.set_yticklabels([''] + all_categories)\n",
    "ax.xaxis.set_major_locator(ticker.MultipleLocator(1))\n",
    "ax.yaxis.set_major_locator(ticker.MultipleLocator(1))\n",
    "\n",
    "plt.show()"
   ]
  },
  {
   "cell_type": "code",
   "execution_count": 23,
   "metadata": {},
   "outputs": [],
   "source": [
    "# モデルで推論する関数\n",
    "def predict(input_line, n_predictions=2):\n",
    "    \"\"\"\n",
    "    Perform prediction\n",
    "    :param input_line: input tensor for prediction\n",
    "    :param n_predictions: number of data to generate from one sample\n",
    "    :return: prediction result\n",
    "    >>> input_line\n",
    "    >>> サトシ\n",
    "    >>>(-0.05) boys_name\n",
    "    >>>(-2.97) girls_name\n",
    "    \"\"\"\n",
    "    hidden = lstm.init_hidden()\n",
    "    var_line = Variable(line_to_tensor(input_line))\n",
    "\n",
    "    # Get prediction for all samples/lines\n",
    "    for i in range(var_line.size()[0]):\n",
    "        output, hidden = lstm(var_line[i], hidden)\n",
    "\n",
    "    # Get top N categories (probability, category_index)\n",
    "    topv, topi = output.data.topk(n_predictions, 1, True)\n",
    "\n",
    "    # Store prediction result to a patent\n",
    "    predictions = []\n",
    "    print('\\n> %s' % input_line)\n",
    "    for i in range(n_predictions):\n",
    "        value = topv[0][i]\n",
    "        category_index = topi[0][i]\n",
    "        print('(%.2f) %s' % (value, all_categories[category_index]))\n",
    "        predictions.append([value, all_categories[category_index]])"
   ]
  },
  {
   "cell_type": "code",
   "execution_count": 24,
   "metadata": {},
   "outputs": [
    {
     "name": "stdout",
     "output_type": "stream",
     "text": [
      "\n",
      "> サトシ\n",
      "(-0.21) boys_name\n",
      "(-1.66) girls_name\n"
     ]
    }
   ],
   "source": [
    "# テスト1\n",
    "predict('サトシ')"
   ]
  },
  {
   "cell_type": "code",
   "execution_count": 25,
   "metadata": {},
   "outputs": [
    {
     "name": "stdout",
     "output_type": "stream",
     "text": [
      "\n",
      "> クミコ\n",
      "(-0.00) girls_name\n",
      "(-10.20) boys_name\n"
     ]
    }
   ],
   "source": [
    "# テスト2\n",
    "predict('クミコ')"
   ]
  },
  {
   "cell_type": "code",
   "execution_count": null,
   "metadata": {},
   "outputs": [],
   "source": []
  }
 ],
 "metadata": {
  "kernelspec": {
   "display_name": "Python 3",
   "language": "python",
   "name": "python3"
  },
  "language_info": {
   "codemirror_mode": {
    "name": "ipython",
    "version": 3
   },
   "file_extension": ".py",
   "mimetype": "text/x-python",
   "name": "python",
   "nbconvert_exporter": "python",
   "pygments_lexer": "ipython3",
   "version": "3.6.4"
  }
 },
 "nbformat": 4,
 "nbformat_minor": 2
}
